{
 "cells": [
  {
   "cell_type": "markdown",
   "id": "9a5d3bbc-6b5c-4375-afc6-c7f1814b4694",
   "metadata": {},
   "source": [
    "### This notebook is to slice out 10% of the dataset Reviews.csv"
   ]
  },
  {
   "cell_type": "code",
   "execution_count": 23,
   "id": "a1492f79-f63e-4535-9e22-38f111585bde",
   "metadata": {},
   "outputs": [],
   "source": [
    "import os  # Get directory\n",
    "import pandas as pd \n",
    "import random\n",
    "\n",
    "# Import full dataset\n",
    "repo = os.getcwd()\n",
    "df = pd.read_csv(repo + '/Reviews.csv', index_col='Id')"
   ]
  },
  {
   "cell_type": "code",
   "execution_count": 20,
   "id": "4c8f59e4-26dd-43d3-b672-02515bfc9d3e",
   "metadata": {},
   "outputs": [],
   "source": [
    "# Set constants\n",
    "random.seed(0)  # For reproducible randomisation\n",
    "\n",
    "# We will slice our dataframe based on the products so we'll have all reviews of one product\n",
    "idx = df['ProductId'].unique()\n",
    "df_len = len(idx)\n",
    "l = df_len // 10\n",
    "\n",
    "idx_subset = random.sample(list(idx), l)"
   ]
  },
  {
   "cell_type": "code",
   "execution_count": 21,
   "id": "7fc0040b-1500-4d84-a64a-1bf4dae2632e",
   "metadata": {},
   "outputs": [],
   "source": [
    "df_sub = df[df['ProductId'].isin(idx_subset)]\n",
    "df_sub.to_csv(repo + '/Reviews_small.csv', index=True)"
   ]
  },
  {
   "cell_type": "code",
   "execution_count": 22,
   "id": "57bf1f61-ff94-4676-bab0-b86abd7e18c9",
   "metadata": {},
   "outputs": [
    {
     "data": {
      "text/plain": [
       "(57507, 9)"
      ]
     },
     "execution_count": 22,
     "metadata": {},
     "output_type": "execute_result"
    }
   ],
   "source": [
    "df_sub.shape"
   ]
  },
  {
   "cell_type": "code",
   "execution_count": null,
   "id": "d9b001b5-c6fc-4784-b32f-25653c6c5803",
   "metadata": {},
   "outputs": [],
   "source": []
  }
 ],
 "metadata": {
  "kernelspec": {
   "display_name": "Python 3",
   "language": "python",
   "name": "python3"
  },
  "language_info": {
   "codemirror_mode": {
    "name": "ipython",
    "version": 3
   },
   "file_extension": ".py",
   "mimetype": "text/x-python",
   "name": "python",
   "nbconvert_exporter": "python",
   "pygments_lexer": "ipython3",
   "version": "3.8.8"
  }
 },
 "nbformat": 4,
 "nbformat_minor": 5
}

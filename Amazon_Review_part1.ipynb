{
 "cells": [
  {
   "cell_type": "markdown",
   "source": [
    "# **Introduction**\n",
    "\n",
    "In this notebook, we explore different available Machine Learning techniques as well as Deep Leearning techniques for the task of Sentiment Classification. The data we used are from Amazon Fine Food Reviews data set extracted from [Kaggle](https://www.kaggle.com/snap/amazon-fine-food-reviews). This notebook is the first part of our journey.\n",
    "\n",
    "\n",
    "Since the dataset is quite voluminous (500k reviews), I've only imported 10% of the dataset. \n",
    "\n",
    "# **Importing Packages**"
   ],
   "metadata": {}
  },
  {
   "cell_type": "code",
   "execution_count": 2,
   "source": [
    "import os  # Get directory\r\n",
    "import re\r\n",
    "import pandas as pd \r\n",
    "import matplotlib.pyplot as plt\r\n",
    "import seaborn as sns  # Pretty plots :)\r\n",
    "import ipywidgets as widgets  # Interactive plot x)\r\n",
    "import nltk\r\n",
    "from nltk import FreqDist\r\n",
    "from nltk.stem import WordNetLemmatizer\r\n",
    "from nltk.corpus import stopwords\r\n",
    "from sklearn.model_selection import train_test_split\r\n",
    "\r\n",
    "# Set the theme\r\n",
    "sns.set_theme()\r\n",
    "\r\n",
    "# Print every output\r\n",
    "from IPython.core.interactiveshell import InteractiveShell\r\n",
    "InteractiveShell.ast_node_interactivity = \"all\"\r\n",
    "\r\n",
    "# Retrieve current directory\r\n",
    "repo = os.getcwd()"
   ],
   "outputs": [],
   "metadata": {}
  },
  {
   "cell_type": "code",
   "execution_count": 3,
   "source": [
    "# Load and check data\r\n",
    "df = pd.read_csv(repo + '/Reviews_small.csv', index_col='Id')\r\n",
    "df.head(3)  \r\n",
    "\r\n",
    "# Check data types\r\n",
    "df.info()\r\n",
    "\r\n",
    "print('\\n Shape of data', df.shape)"
   ],
   "outputs": [
    {
     "output_type": "execute_result",
     "data": {
      "text/html": [
       "<div>\n",
       "<style scoped>\n",
       "    .dataframe tbody tr th:only-of-type {\n",
       "        vertical-align: middle;\n",
       "    }\n",
       "\n",
       "    .dataframe tbody tr th {\n",
       "        vertical-align: top;\n",
       "    }\n",
       "\n",
       "    .dataframe thead th {\n",
       "        text-align: right;\n",
       "    }\n",
       "</style>\n",
       "<table border=\"1\" class=\"dataframe\">\n",
       "  <thead>\n",
       "    <tr style=\"text-align: right;\">\n",
       "      <th></th>\n",
       "      <th>ProductId</th>\n",
       "      <th>UserId</th>\n",
       "      <th>ProfileName</th>\n",
       "      <th>HelpfulnessNumerator</th>\n",
       "      <th>HelpfulnessDenominator</th>\n",
       "      <th>Score</th>\n",
       "      <th>Time</th>\n",
       "      <th>Summary</th>\n",
       "      <th>Text</th>\n",
       "    </tr>\n",
       "    <tr>\n",
       "      <th>Id</th>\n",
       "      <th></th>\n",
       "      <th></th>\n",
       "      <th></th>\n",
       "      <th></th>\n",
       "      <th></th>\n",
       "      <th></th>\n",
       "      <th></th>\n",
       "      <th></th>\n",
       "      <th></th>\n",
       "    </tr>\n",
       "  </thead>\n",
       "  <tbody>\n",
       "    <tr>\n",
       "      <th>4</th>\n",
       "      <td>B000UA0QIQ</td>\n",
       "      <td>A395BORC6FGVXV</td>\n",
       "      <td>Karl</td>\n",
       "      <td>3</td>\n",
       "      <td>3</td>\n",
       "      <td>2</td>\n",
       "      <td>1307923200</td>\n",
       "      <td>Cough Medicine</td>\n",
       "      <td>If you are looking for the secret ingredient i...</td>\n",
       "    </tr>\n",
       "    <tr>\n",
       "      <th>14</th>\n",
       "      <td>B001GVISJM</td>\n",
       "      <td>A18ECVX2RJ7HUE</td>\n",
       "      <td>willie \"roadie\"</td>\n",
       "      <td>2</td>\n",
       "      <td>2</td>\n",
       "      <td>4</td>\n",
       "      <td>1288915200</td>\n",
       "      <td>fresh and greasy!</td>\n",
       "      <td>good flavor! these came securely packed... the...</td>\n",
       "    </tr>\n",
       "    <tr>\n",
       "      <th>15</th>\n",
       "      <td>B001GVISJM</td>\n",
       "      <td>A2MUGFV2TDQ47K</td>\n",
       "      <td>Lynrie \"Oh HELL no\"</td>\n",
       "      <td>4</td>\n",
       "      <td>5</td>\n",
       "      <td>5</td>\n",
       "      <td>1268352000</td>\n",
       "      <td>Strawberry Twizzlers - Yummy</td>\n",
       "      <td>The Strawberry Twizzlers are my guilty pleasur...</td>\n",
       "    </tr>\n",
       "  </tbody>\n",
       "</table>\n",
       "</div>"
      ],
      "text/plain": [
       "     ProductId          UserId          ProfileName  HelpfulnessNumerator  \\\n",
       "Id                                                                          \n",
       "4   B000UA0QIQ  A395BORC6FGVXV                 Karl                     3   \n",
       "14  B001GVISJM  A18ECVX2RJ7HUE      willie \"roadie\"                     2   \n",
       "15  B001GVISJM  A2MUGFV2TDQ47K  Lynrie \"Oh HELL no\"                     4   \n",
       "\n",
       "    HelpfulnessDenominator  Score        Time                       Summary  \\\n",
       "Id                                                                            \n",
       "4                        3      2  1307923200                Cough Medicine   \n",
       "14                       2      4  1288915200             fresh and greasy!   \n",
       "15                       5      5  1268352000  Strawberry Twizzlers - Yummy   \n",
       "\n",
       "                                                 Text  \n",
       "Id                                                     \n",
       "4   If you are looking for the secret ingredient i...  \n",
       "14  good flavor! these came securely packed... the...  \n",
       "15  The Strawberry Twizzlers are my guilty pleasur...  "
      ]
     },
     "metadata": {},
     "execution_count": 3
    },
    {
     "output_type": "stream",
     "name": "stdout",
     "text": [
      "<class 'pandas.core.frame.DataFrame'>\n",
      "Int64Index: 57507 entries, 4 to 568442\n",
      "Data columns (total 9 columns):\n",
      " #   Column                  Non-Null Count  Dtype \n",
      "---  ------                  --------------  ----- \n",
      " 0   ProductId               57507 non-null  object\n",
      " 1   UserId                  57507 non-null  object\n",
      " 2   ProfileName             57506 non-null  object\n",
      " 3   HelpfulnessNumerator    57507 non-null  int64 \n",
      " 4   HelpfulnessDenominator  57507 non-null  int64 \n",
      " 5   Score                   57507 non-null  int64 \n",
      " 6   Time                    57507 non-null  int64 \n",
      " 7   Summary                 57504 non-null  object\n",
      " 8   Text                    57507 non-null  object\n",
      "dtypes: int64(4), object(5)\n",
      "memory usage: 4.4+ MB\n",
      "\n",
      " Shape of data (57507, 9)\n"
     ]
    }
   ],
   "metadata": {}
  },
  {
   "cell_type": "markdown",
   "source": [
    "The dataset contains ~50k reviews from Amazon, with 9 different columns : ProductId, UserId, ProfileName,... The column Score is our target column. Note that the column Score is **ordinal**. Our goal here is to predict the score of each reviews. It's a classification task.\n",
    "\n",
    "The columns Helpxxx don't contain useful information for our task since they are given after the reviews have been made and not relevant to classify the reviews.\n",
    "\n",
    "Recall that we want to predict the score of the item based on their reviews : texts or summaries. We can remove all the Id columns as well (after EDA)."
   ],
   "metadata": {}
  },
  {
   "cell_type": "markdown",
   "source": [
    "# Clean up data\n",
    "\n",
    "In this section, we will convert columns into their expected format, and remove the columns that we will not use, and remove empty values. "
   ],
   "metadata": {}
  },
  {
   "cell_type": "code",
   "execution_count": 4,
   "source": [
    "# Modify data types Summary/ Text / Score\r\n",
    "df.loc[:,'Summary'] = df['Summary'].astype('string')\r\n",
    "df.loc[:,'Text'] = df['Text'].astype('string')\r\n",
    "\r\n",
    "# Convert time to datetime format\r\n",
    "print('\\n Data after converting Time to datetime format')\r\n",
    "df['Time'] = pd.to_datetime(df['Time'], unit='s')\r\n",
    "df.head(3)\r\n",
    "\r\n",
    "# Check percentage of missing values\r\n",
    "df.isna().sum().sort_values(ascending=False)/df.shape[0]\r\n",
    "# The missing values are less than 5%, we can safely remove them out\r\n",
    "df.dropna(inplace=True)\r\n",
    "\r\n",
    "# Remove helpxxx columns\r\n",
    "df.drop(['HelpfulnessNumerator', 'HelpfulnessDenominator', 'ProfileName'], axis=1, inplace=True)\r\n",
    "\r\n",
    "# Categorical/ Numerical features\r\n",
    "cat = df.select_dtypes(include='O').columns\r\n",
    "num = df.select_dtypes(exclude='O').columns\r\n",
    "\r\n",
    "\r\n",
    "# Print out categorifal features/ numerical features\r\n",
    "print('Categorical features are', cat.to_list())\r\n",
    "print('Numerical features are', num.to_list())"
   ],
   "outputs": [
    {
     "output_type": "stream",
     "name": "stdout",
     "text": [
      "\n",
      " Data after converting Time to datetime format\n"
     ]
    },
    {
     "output_type": "execute_result",
     "data": {
      "text/html": [
       "<div>\n",
       "<style scoped>\n",
       "    .dataframe tbody tr th:only-of-type {\n",
       "        vertical-align: middle;\n",
       "    }\n",
       "\n",
       "    .dataframe tbody tr th {\n",
       "        vertical-align: top;\n",
       "    }\n",
       "\n",
       "    .dataframe thead th {\n",
       "        text-align: right;\n",
       "    }\n",
       "</style>\n",
       "<table border=\"1\" class=\"dataframe\">\n",
       "  <thead>\n",
       "    <tr style=\"text-align: right;\">\n",
       "      <th></th>\n",
       "      <th>ProductId</th>\n",
       "      <th>UserId</th>\n",
       "      <th>ProfileName</th>\n",
       "      <th>HelpfulnessNumerator</th>\n",
       "      <th>HelpfulnessDenominator</th>\n",
       "      <th>Score</th>\n",
       "      <th>Time</th>\n",
       "      <th>Summary</th>\n",
       "      <th>Text</th>\n",
       "    </tr>\n",
       "    <tr>\n",
       "      <th>Id</th>\n",
       "      <th></th>\n",
       "      <th></th>\n",
       "      <th></th>\n",
       "      <th></th>\n",
       "      <th></th>\n",
       "      <th></th>\n",
       "      <th></th>\n",
       "      <th></th>\n",
       "      <th></th>\n",
       "    </tr>\n",
       "  </thead>\n",
       "  <tbody>\n",
       "    <tr>\n",
       "      <th>4</th>\n",
       "      <td>B000UA0QIQ</td>\n",
       "      <td>A395BORC6FGVXV</td>\n",
       "      <td>Karl</td>\n",
       "      <td>3</td>\n",
       "      <td>3</td>\n",
       "      <td>2</td>\n",
       "      <td>2011-06-13</td>\n",
       "      <td>Cough Medicine</td>\n",
       "      <td>If you are looking for the secret ingredient i...</td>\n",
       "    </tr>\n",
       "    <tr>\n",
       "      <th>14</th>\n",
       "      <td>B001GVISJM</td>\n",
       "      <td>A18ECVX2RJ7HUE</td>\n",
       "      <td>willie \"roadie\"</td>\n",
       "      <td>2</td>\n",
       "      <td>2</td>\n",
       "      <td>4</td>\n",
       "      <td>2010-11-05</td>\n",
       "      <td>fresh and greasy!</td>\n",
       "      <td>good flavor! these came securely packed... the...</td>\n",
       "    </tr>\n",
       "    <tr>\n",
       "      <th>15</th>\n",
       "      <td>B001GVISJM</td>\n",
       "      <td>A2MUGFV2TDQ47K</td>\n",
       "      <td>Lynrie \"Oh HELL no\"</td>\n",
       "      <td>4</td>\n",
       "      <td>5</td>\n",
       "      <td>5</td>\n",
       "      <td>2010-03-12</td>\n",
       "      <td>Strawberry Twizzlers - Yummy</td>\n",
       "      <td>The Strawberry Twizzlers are my guilty pleasur...</td>\n",
       "    </tr>\n",
       "  </tbody>\n",
       "</table>\n",
       "</div>"
      ],
      "text/plain": [
       "     ProductId          UserId          ProfileName  HelpfulnessNumerator  \\\n",
       "Id                                                                          \n",
       "4   B000UA0QIQ  A395BORC6FGVXV                 Karl                     3   \n",
       "14  B001GVISJM  A18ECVX2RJ7HUE      willie \"roadie\"                     2   \n",
       "15  B001GVISJM  A2MUGFV2TDQ47K  Lynrie \"Oh HELL no\"                     4   \n",
       "\n",
       "    HelpfulnessDenominator  Score       Time                       Summary  \\\n",
       "Id                                                                           \n",
       "4                        3      2 2011-06-13                Cough Medicine   \n",
       "14                       2      4 2010-11-05             fresh and greasy!   \n",
       "15                       5      5 2010-03-12  Strawberry Twizzlers - Yummy   \n",
       "\n",
       "                                                 Text  \n",
       "Id                                                     \n",
       "4   If you are looking for the secret ingredient i...  \n",
       "14  good flavor! these came securely packed... the...  \n",
       "15  The Strawberry Twizzlers are my guilty pleasur...  "
      ]
     },
     "metadata": {},
     "execution_count": 4
    },
    {
     "output_type": "execute_result",
     "data": {
      "text/plain": [
       "Summary                   0.000052\n",
       "ProfileName               0.000017\n",
       "ProductId                 0.000000\n",
       "UserId                    0.000000\n",
       "HelpfulnessNumerator      0.000000\n",
       "HelpfulnessDenominator    0.000000\n",
       "Score                     0.000000\n",
       "Time                      0.000000\n",
       "Text                      0.000000\n",
       "dtype: float64"
      ]
     },
     "metadata": {},
     "execution_count": 4
    },
    {
     "output_type": "stream",
     "name": "stdout",
     "text": [
      "Categorical features are ['ProductId', 'UserId']\n",
      "Numerical features are ['Score', 'Time', 'Summary', 'Text']\n"
     ]
    }
   ],
   "metadata": {}
  },
  {
   "cell_type": "markdown",
   "source": [
    "# Description of data\n",
    " \n",
    " Our data set contains $\\approx$ 50k observations, in which each observation is a review left by a customer on a product at a specific moment. The key access to the table is the Id column (unique). There are 9 features (columns) in the table, where each column is self-explanatory: \n",
    "\n",
    "    ProductId: helps to identify the product\n",
    "    UserId: helps to identify the customer\n",
    "    Profile Name: Name chosen by user (we will remove this column since we already had access to UserId, which is a better indentifier of each user. *We noticed that some different users can have the same ProfileName*)\n",
    "    Summary: summarized version of the review\n",
    "    Text: Detailed version of the review\n",
    "    Score: Our targeted discrete feature, score from 1-5\n",
    "    Time: The time of the review\n",
    "    \n",
    "\n",
    "Some observations are missing, but this number is minimal compared to the data size, therefore we removed them from the table.\n",
    "\n",
    "It is also interesting to point out that the table doesn't consist of unique user giving reviews to an unique product. We can find one product being rated by different users, as well as one user giving reviews to different products (*number of UserId and ProductId are $\\leq$ than number of observations*). This suggests us to explore if there's common points between the users or the products.\n",
    "\n",
    "# Explanatory Data Analysis\n",
    "\n",
    "Sometimes, it's overwhelming to start the data analysis task. Don't worry, I got you. When there's a new dataset. Instead of approaching it with statistics tools, just give in to all the first questions that you have in mind. Be curious, write down all the questions you'd like to ask your dataset before starting to code. It's always helped me to organize my workflow in EDA.\n",
    "\n",
    "For instant, this dataset is quite self-explanatory, but also very mysterious, I'd love to know : \n",
    "\n",
    "1. What is the distribution of the scores ? Do we often have more good reviews than bad? (I expect that the reviews will be mostly good, since Amazon has a good reputation. If so, this may be problematic for us, because our predictor will perform poorly on the bad reviews).\n",
    "\n",
    "2. The reviews are often short, and may contain emojis, excessive punctuation, poor grammars,... This means that we will need to clean up our reviews a little bit before doing any classification.\n",
    "\n",
    "(Other not too important questions)\n",
    "\n",
    "\n",
    "\n",
    "3. Do we have any groups of users who often give the same scores ? (Maybe someone who always gives good feedback ?)\n",
    "\n",
    "4. What about our Products, do we have any good on average products, or bad on average products?\n",
    "\n",
    "\n",
    "\n",
    "Those are my first questions in mind, let's try to aswer them one by one. How about you, do you have any additional ones ? \n",
    "\n"
   ],
   "metadata": {}
  },
  {
   "cell_type": "code",
   "execution_count": 5,
   "source": [
    "# Check how the scores are distributed\r\n",
    "plt.figure(figsize=(7, 7))\r\n",
    "sns.histplot(df['Score'], bins=5)\r\n",
    "plt.title('Number of observations in each Score category')\r\n",
    "plt.show();"
   ],
   "outputs": [
    {
     "output_type": "display_data",
     "data": {
      "image/png": "[encoded data removed]",
      "text/plain": [
       "<Figure size 504x504 with 1 Axes>"
      ]
     },
     "metadata": {}
    }
   ],
   "metadata": {}
  },
  {
   "cell_type": "markdown",
   "source": [
    "We clearly have too many good reviews. This problem is called imbalanced class. We should be careful with our choice of models to deal with this. XGBOOST may help us to overcome this problem."
   ],
   "metadata": {}
  },
  {
   "cell_type": "code",
   "execution_count": 6,
   "source": [
    "# Check our users and our products\r\n",
    "df.groupby(['UserId'])['Score'].mean().head(3) # Check average scores given by each UserId\r\n",
    "df.groupby(['UserId'])['Score'].count().head(3)  # Check number of reviews given per user\r\n",
    "\r\n",
    "# Same but for product\r\n",
    "df.groupby('ProductId')['Score'].mean().head(3)\r\n",
    "df.groupby(['ProductId'])['Score'].count().head(3)"
   ],
   "outputs": [
    {
     "output_type": "execute_result",
     "data": {
      "text/plain": [
       "UserId\n",
       "#oc-R12KPBODL2B5ZD    1.0\n",
       "#oc-R1522DF2LUL4G1    1.0\n",
       "#oc-R1BKC1B35FFB0     3.0\n",
       "Name: Score, dtype: float64"
      ]
     },
     "metadata": {},
     "execution_count": 6
    },
    {
     "output_type": "execute_result",
     "data": {
      "text/plain": [
       "UserId\n",
       "#oc-R12KPBODL2B5ZD    1\n",
       "#oc-R1522DF2LUL4G1    1\n",
       "#oc-R1BKC1B35FFB0     1\n",
       "Name: Score, dtype: int64"
      ]
     },
     "metadata": {},
     "execution_count": 6
    },
    {
     "output_type": "execute_result",
     "data": {
      "text/plain": [
       "ProductId\n",
       "141278509X    5.0\n",
       "9376674501    5.0\n",
       "B00004RBDW    4.0\n",
       "Name: Score, dtype: float64"
      ]
     },
     "metadata": {},
     "execution_count": 6
    },
    {
     "output_type": "execute_result",
     "data": {
      "text/plain": [
       "ProductId\n",
       "141278509X     1\n",
       "9376674501     1\n",
       "B00004RBDW    31\n",
       "Name: Score, dtype: int64"
      ]
     },
     "metadata": {},
     "execution_count": 6
    }
   ],
   "metadata": {}
  },
  {
   "cell_type": "markdown",
   "source": [
    "Some products have only 1 review, which may turn out to be hard for us to dermine the score. (When taking a small part of our original dataset, I've chosen to retrieve all reviews for a given product). Since we are interested only in the reviews, I will remove all Id & time columns out of our dataset."
   ],
   "metadata": {}
  },
  {
   "cell_type": "markdown",
   "source": [
    "The block code below allows us to look at the distribution of scores within each product."
   ],
   "metadata": {}
  },
  {
   "cell_type": "code",
   "execution_count": 7,
   "source": [
    "%matplotlib widget\r\n",
    "#Prod = widgets.Dropdown(options = sorted(list(set(df['ProductId']))))\r\n",
    "Prod = list(set(df['ProductId']))\r\n",
    "# Check if we have a set of products who always receive a certain score\r\n",
    "def bar_plot(prod):\r\n",
    "    print(f'ProductId {prod}')\r\n",
    "    df_plot = df.groupby(['ProductId','Score'])['Score'].count().rename('Count', axis=1).reset_index()  \r\n",
    "    df_plot = df_plot[df_plot['ProductId']==prod]\r\n",
    "    df_plot['Count'].astype(int)\r\n",
    "    \r\n",
    "    plt.figure(figsize=(3, 3))\r\n",
    "    sns.barplot(x='Score', y='Count', data=df_plot)\r\n",
    "    plt.title('Distribution of score')\r\n",
    "    plt.show();\r\n",
    "    \r\n",
    "widgets.interact(bar_plot,  prod=Prod)"
   ],
   "outputs": [
    {
     "output_type": "display_data",
     "data": {
      "application/vnd.jupyter.widget-view+json": {
       "version_major": 2,
       "version_minor": 0,
       "model_id": "96c7f75e47a24659ade1a89dc3ae01a3"
      },
      "text/plain": [
       "interactive(children=(Dropdown(description='prod', options=('B000GLUEFO', 'B003BN7DLW', 'B001ELL6VG', 'B004G5Z…"
      ]
     },
     "metadata": {}
    },
    {
     "output_type": "execute_result",
     "data": {
      "text/plain": [
       "<function __main__.bar_plot(prod)>"
      ]
     },
     "metadata": {},
     "execution_count": 7
    }
   ],
   "metadata": {}
  },
  {
   "cell_type": "code",
   "execution_count": 8,
   "source": [
    "# Remove columns\r\n",
    "df.drop(['ProductId', 'UserId', 'Time',], axis=1, inplace=True)"
   ],
   "outputs": [],
   "metadata": {}
  },
  {
   "cell_type": "markdown",
   "source": [
    "Handling raw texts is hard for any algorithm, therefor we need to have preliminary steps to clean up the raw string that we obtained from the reivews. Some of the questions that may help us to grab some general statistics are :\n",
    "\n",
    "    1. How many unique words are there in the corpus provided?\n",
    "    2. What are the most common strings ? \n",
    "    3. How do longest/shortest strings look like?\n",
    "    4. Are there any weird expressions (url, wrongly spelled words,..)?\n",
    "\n",
    "The cell below will help us to see what are most common strings in the corpus, and how do the longest/shortest strings look like"
   ],
   "metadata": {}
  },
  {
   "cell_type": "code",
   "execution_count": 9,
   "source": [
    "# Check number of words\r\n",
    "train_string = ' '.join(df['Text'])\r\n",
    "splits = train_string.split() \r\n",
    "print('Number of words (punctuation included):', len(splits))\r\n",
    "print('Number of unique words(punct included):', len(set(splits)))\r\n",
    "\r\n",
    "# Check the most common words\r\n",
    "freq_splits = FreqDist(splits)\r\n",
    "print('_'*80)\r\n",
    "print('20 most common words \\n', freq_splits.most_common(20), '\\n')\r\n",
    "\r\n",
    "# Shortest words\r\n",
    "print('_'*80)\r\n",
    "print(\"Shortest words\")\r\n",
    "short = set(s for s in splits if len(s)<4)\r\n",
    "short = [(s, freq_splits[s]) for s in short]\r\n",
    "short.sort(key=lambda x:x[1], reverse=True)\r\n",
    "short[0:5]\r\n",
    "\r\n",
    "#Longest words \r\n",
    "print('_'*80)\r\n",
    "print(\"Longest words \\n\")\r\n",
    "long = set(s for s in splits if len(s)>15)\r\n",
    "long = [(s, freq_splits[s]) for s in long]\r\n",
    "long.sort(key=lambda x:x[1], reverse=True)\r\n",
    "long[0:10]"
   ],
   "outputs": [
    {
     "output_type": "stream",
     "name": "stdout",
     "text": [
      "Number of words (punctuation included): 4624839\n",
      "Number of unique words(punct included): 157908\n",
      "________________________________________________________________________________\n",
      "20 most common words \n",
      " [('the', 165079), ('I', 140564), ('and', 124758), ('a', 117139), ('to', 100209), ('of', 80150), ('is', 71985), ('it', 62511), ('for', 52915), ('in', 51696), ('this', 48668), ('that', 40457), ('my', 36761), ('have', 33898), ('with', 33741), ('but', 33586), ('are', 32588), ('was', 31804), ('not', 28913), ('you', 27911)] \n",
      "\n",
      "________________________________________________________________________________\n",
      "Shortest words\n"
     ]
    },
    {
     "output_type": "execute_result",
     "data": {
      "text/plain": [
       "[('the', 165079),\n",
       " ('I', 140564),\n",
       " ('and', 124758),\n",
       " ('a', 117139),\n",
       " ('to', 100209)]"
      ]
     },
     "metadata": {},
     "execution_count": 9
    },
    {
     "output_type": "stream",
     "name": "stdout",
     "text": [
      "________________________________________________________________________________\n",
      "Longest words \n",
      "\n"
     ]
    },
    {
     "output_type": "execute_result",
     "data": {
      "text/plain": [
       "[('/>Unfortunately,', 49),\n",
       " ('disappointed.<br', 35),\n",
       " ('gastrointestinal', 24),\n",
       " ('preservatives.<br', 20),\n",
       " ('href=\"http://www.amazon.com/gp/product/B002IEZJMA\">illy', 19),\n",
       " ('Frustration-Free', 17),\n",
       " ('over-the-counter', 15),\n",
       " ('health-conscious', 14),\n",
       " ('overpowering.<br', 13),\n",
       " ('expectations.<br', 13)]"
      ]
     },
     "metadata": {},
     "execution_count": 9
    }
   ],
   "metadata": {}
  },
  {
   "cell_type": "markdown",
   "source": [
    "**Remarks** \n",
    "\n",
    "* In the reviews' content, 20 most common words are among the stop words (I, the, and, to,...). These words don't bring additional information to the sentiment classification (at least in the context of product reviews, we do not intend to claim that the presence of a subject in a string will not imply additional emotion intensity). However, in product reviews, we assume that these words don't convey particular meaning to the reviews, therefore we will need to remove them later. \n",
    "\n",
    "*  Hyphenated words:  (ex: Gluten-free). If we tokenise on white space or punctuation, these strings will be split into separate words. For most cases, this will conserve the gist of the sentence. If we keep hyphenated words as they are, they won’t be as common and consequently removed as rare words. (We can compare the two strategies)\n",
    "\n",
    "* There are words combined with other punctuation (some due to lack of space) ex:'preservatives..'. It would be good to separate these cases into separate words when tokenising. So probably tokenising based on white space or punctuation is a good idea.\n",
    "\n",
    "* There are websites addresses that we will need to remove\n",
    "\n",
    "* There are wrongly spelled words that repeat the same character more than twice: 'consumption......'\n",
    "\n",
    "The function below will focus on finding specific expressions in our corpus."
   ],
   "metadata": {}
  },
  {
   "cell_type": "code",
   "execution_count": 10,
   "source": [
    "def find_pattern(pattern, words, freq):\r\n",
    "    \"\"\" \r\n",
    "    Input : \r\n",
    "    pattern : str of patterns we want to search for\r\n",
    "    words : list of words\r\n",
    "    freq : the frency Function which takes a list of tupples containing matched string and their frequency\"\"\"\r\n",
    "    \r\n",
    "    # Match patterns\r\n",
    "    compiled_pattern = re.compile(pattern)\r\n",
    "    matches = [w for w in words if compiled_pattern.search(w)]\r\n",
    "\r\n",
    "    # Display proportion of matcheds\r\n",
    "    print(len(matches), \r\n",
    "          'words matched, which is {:.2%} of total'.format(len(matches)/len(words)))\r\n",
    "    \r\n",
    "    # Create list of tupples\r\n",
    "    res = [(w, freq[w]) for w in set(matches)]\r\n",
    "    res.sort(key=lambda x:x[1], reverse=True)\r\n",
    "    print(f'Sample of patterns searched {res[0:10]} \\n')\r\n",
    "\r\n",
    "# Find hltml tags\r\n",
    "find_pattern(r'/?>?w*<|/>', splits, freq_splits)\r\n",
    "\r\n",
    "# Find numbers\r\n",
    "find_pattern(r'\\d', splits, freq_splits)\r\n",
    "\r\n",
    "# Find Hyphenated words\r\n",
    "find_pattern(r'\\w+-+\\w+', splits, freq_splits)\r\n",
    "\r\n",
    "# Find 'href=' patterns\r\n",
    "find_pattern(r'href\\=', splits, freq_splits)"
   ],
   "outputs": [
    {
     "output_type": "stream",
     "name": "stdout",
     "text": [
      "106842 words matched, which is 2.31% of total\n",
      "Sample of patterns searched [('/><br', 26219), ('/>I', 5399), ('/>The', 2616), ('<a', 1164), ('/>This', 1131), ('/>My', 797), ('it.<br', 794), ('/>', 742), ('/>If', 740), ('/>It', 658)] \n",
      "\n",
      "51981 words matched, which is 1.12% of total\n",
      "Sample of patterns searched [('2', 3336), ('3', 2736), ('5', 2154), ('4', 1995), ('1', 1679), ('6', 1388), ('10', 1056), ('12', 966), ('8', 816), ('100', 684)] \n",
      "\n",
      "23535 words matched, which is 0.51% of total\n",
      "Sample of patterns searched [('gluten-free', 314), ('K-Cups', 302), ('k-cups', 299), ('K-cups', 296), ('K-cup', 258), ('K-Cup', 250), ('k-cup', 240), ('2-3', 158), ('sugar-free', 132), ('3-4', 112)] \n",
      "\n",
      "1571 words matched, which is 0.03% of total\n",
      "Sample of patterns searched [('href=\"http://www.amazon.com/gp/product/B002IEZJMA\">illy', 19), ('href=\"http://www.amazon.com/gp/product/B0029XDZIK\">Coffee', 12), ('href=\"http://www.amazon.com/gp/product/B000AQPMHA\">Keurig', 9), ('href=\"http://www.amazon.com/gp/product/B004779XNW\">Green', 9), ('href=\"http://www.amazon.com/gp/product/B003AZ2ECY\">Gourmet', 8), ('href=\"http://www.amazon.com/gp/product/B004M5W7YQ\">Emerils', 8), ('href=\"http://www.amazon.com/gp/product/B003JA5KKS\">Green', 7), ('href=\"http://www.amazon.com/gp/product/B002IEVJRY\">illy', 7), ('href=\"http://www.amazon.com/gp/product/B001ELL68Y\">Tully\\'s', 7), ('href=\"http://www.amazon.com/gp/product/B001RVAWY0\">Popchips,', 5)] \n",
      "\n"
     ]
    }
   ],
   "metadata": {}
  },
  {
   "cell_type": "code",
   "execution_count": 11,
   "source": [
    "def find_repeatly_spelled(word):\r\n",
    "    \"\"\"Find words that contain a same character 3+ times in a row.\r\n",
    "        Return bool\r\n",
    "    \"\"\"\r\n",
    "    is_wrongly_spelled = False\r\n",
    "    for i, letter in enumerate(word):\r\n",
    "        if i > 1:\r\n",
    "            if word[i] == word[i-1] == word[i-2] and word[i].isalpha():\r\n",
    "                is_wrongly_spelled = True\r\n",
    "                break\r\n",
    "    return is_wrongly_spelled\r\n",
    "\r\n",
    "\r\n",
    "# List of repeatedly spelled words\r\n",
    "list_repeatly_spelled = [w for w in splits if find_repeatly_spelled(w)]\r\n",
    "\r\n",
    "# Print out percentage\r\n",
    "print('Percentage of wrongly spelled words')\r\n",
    "print('{} strings, that is {:.2%} of total'.format(len(list_repeatly_spelled), \r\n",
    "                                         len(list_repeatly_spelled)/len(splits)))\r\n",
    "outlaw_freq = [(w, freq_splits[w]) for w in set(list_repeatly_spelled)]\r\n",
    "outlaw_freq.sort(key=lambda x:x[1], reverse=True)\r\n",
    "print(f'Examples of weird expressions {outlaw_freq[0:10]}')"
   ],
   "outputs": [
    {
     "output_type": "stream",
     "name": "stdout",
     "text": [
      "Percentage of wrongly spelled words\n",
      "2723 strings, that is 0.06% of total\n",
      "Examples of weird expressions [('soooo', 86), ('sooo', 75), ('sooooo', 45), ('soooooo', 25), ('href=\"http://www.amazon.com/gp/product/B002IEZJMA\">illy', 19), ('Soooo', 13), ('href=\"http://www.amazon.com/gp/product/B0029XDZIK\">Coffee', 12), ('SOOO', 11), ('href=\"http://www.amazon.com/gp/product/B000AQPMHA\">Keurig', 9), ('href=\"http://www.amazon.com/gp/product/B004779XNW\">Green', 9)]\n"
     ]
    }
   ],
   "metadata": {}
  },
  {
   "cell_type": "markdown",
   "source": [
    "**Remarks**\n",
    "\n",
    "* The number of words where there are html tags are of 2% of the train data set. This will not be a problem since later we will tokenise on whitespace and punctuation (including special characters). These words will \"appear\" normal. Note that words such as \"br\" should also be included in our stopwords => We need to expand our list of stopwords\n",
    "\n",
    "* There are some numbers in the reviews, but since they only take 1% of the train data, and in most case, they don't convey a particular sentiment, we will also not take them into account when tokenizing => We will remove the numbers when cleaning the text\n",
    "\n",
    "* The percentage of hyphenated words are very few ($\\leq$ 2%) if they are treated as one word, and they don't increase the tdidf matrix size, then we will include hyphenated words in our analysis, if they increase the matrix size, we will remove them as well.\n",
    "\n",
    "Below is the function to clean the text.\n"
   ],
   "metadata": {}
  },
  {
   "cell_type": "code",
   "execution_count": 12,
   "source": [
    "# Add html words tag into stop words collection\r\n",
    "stop_words = stopwords.words(\"english\")\r\n",
    "stop_words.extend(['br', 'href'])"
   ],
   "outputs": [],
   "metadata": {}
  },
  {
   "cell_type": "code",
   "execution_count": 21,
   "source": [
    "def preprocess_string(string):\r\n",
    "    # Lower case\r\n",
    "    string = string.lower()\r\n",
    "    \r\n",
    "    # Remove html tags    \r\n",
    "    html_tag = re.compile('<.*?>')\r\n",
    "    string = re.sub(html_tag, ' ', string)\r\n",
    "\r\n",
    "    # Remove url\r\n",
    "    string = re.sub(r'http\\S+', ' ', string) \r\n",
    "    \r\n",
    "    # Remove single / double characters\r\n",
    "    string = re.sub(r'\\b\\w{1,2}\\b', ' ', string)\r\n",
    "    \r\n",
    "    # Remove words that are in stop words\r\n",
    "    string = ' '.join(w for w in string.split() if w not in stop_words)\r\n",
    "    \r\n",
    "     # Remove word that starts with \"aa\"\r\n",
    "    string = re.sub(r'^aa\\w+', ' ', string)\r\n",
    "\r\n",
    "    # Remove word that have 3+ consecutive words for ex: wooow\r\n",
    "    string = re.sub(r'\\b\\w*(\\w)\\1\\1\\w*', ' ', string)\r\n",
    "    \r\n",
    "    # Remove digits\r\n",
    "    string = re.sub(r'\\d', ' ', string)\r\n",
    "    \r\n",
    "    # Remove extra white space\r\n",
    "    string = re.sub(r'[\\s]+', ' ', string) \r\n",
    "\r\n",
    "    # Remove punctuation\r\n",
    "    string = re.sub(r'[^\\w\\s]',' ', string)\r\n",
    "    \r\n",
    "    # Replace '-' with a space \r\n",
    "    string = re.sub(r\"\\-\", ' ', string) #\r\n",
    "\r\n",
    "    # Remove extra ''\r\n",
    "    string = re.sub(r\"\\'+\", '', string) \r\n",
    "\r\n",
    "    \r\n",
    "    return(string)\r\n",
    "\r\n",
    "def lemmatize_string(string):\r\n",
    "    lem=WordNetLemmatizer()\r\n",
    "    prep_string = preprocess_string(string)\r\n",
    "    string = ' '.join(lem.lemmatize(w, pos='v') for w in prep_string.split())\r\n",
    "    return(string)"
   ],
   "outputs": [],
   "metadata": {}
  },
  {
   "cell_type": "code",
   "execution_count": 14,
   "source": [
    "# Clean the text\r\n",
    "df['Summary_prep'] = df['Summary'].apply(lemmatize_string)\r\n",
    "print('Done cleaning Summary!'+'.'*80)\r\n",
    "\r\n",
    "df['Text_prep'] = df['Text'].apply(lemmatize_string)\r\n",
    "print('Done cleaning Text!'+'.'*80)\r\n",
    "\r\n",
    "# Export cleaned data\r\n",
    "df.to_csv(repo+'/Reviews_cleaned.csv', encoding='utf-8', index=False)"
   ],
   "outputs": [
    {
     "output_type": "stream",
     "name": "stdout",
     "text": [
      "Done cleaning Summary!................................................................................\n",
      "Done cleaning Text!................................................................................\n"
     ]
    }
   ],
   "metadata": {}
  },
  {
   "cell_type": "code",
   "execution_count": 15,
   "source": [
    "# Prepare data set\r\n",
    "# Import cleaned data\r\n",
    "df_new = pd.read_csv(repo + '/Reviews_cleaned.csv')\r\n",
    "df_new.dropna(inplace=True)\r\n",
    "\r\n",
    "# Load and check data\r\n",
    "df_new.head(3)  \r\n",
    "\r\n",
    "# Check data types\r\n",
    "df_new.info()\r\n",
    "\r\n",
    "print('\\n Shape of data', df_new.shape)"
   ],
   "outputs": [
    {
     "output_type": "execute_result",
     "data": {
      "text/html": [
       "<div>\n",
       "<style scoped>\n",
       "    .dataframe tbody tr th:only-of-type {\n",
       "        vertical-align: middle;\n",
       "    }\n",
       "\n",
       "    .dataframe tbody tr th {\n",
       "        vertical-align: top;\n",
       "    }\n",
       "\n",
       "    .dataframe thead th {\n",
       "        text-align: right;\n",
       "    }\n",
       "</style>\n",
       "<table border=\"1\" class=\"dataframe\">\n",
       "  <thead>\n",
       "    <tr style=\"text-align: right;\">\n",
       "      <th></th>\n",
       "      <th>Score</th>\n",
       "      <th>Summary</th>\n",
       "      <th>Text</th>\n",
       "      <th>Summary_prep</th>\n",
       "      <th>Text_prep</th>\n",
       "    </tr>\n",
       "  </thead>\n",
       "  <tbody>\n",
       "    <tr>\n",
       "      <th>0</th>\n",
       "      <td>2</td>\n",
       "      <td>Cough Medicine</td>\n",
       "      <td>If you are looking for the secret ingredient i...</td>\n",
       "      <td>cough medicine</td>\n",
       "      <td>look secret ingredient robitussin believe find...</td>\n",
       "    </tr>\n",
       "    <tr>\n",
       "      <th>1</th>\n",
       "      <td>4</td>\n",
       "      <td>fresh and greasy!</td>\n",
       "      <td>good flavor! these came securely packed... the...</td>\n",
       "      <td>fresh greasy</td>\n",
       "      <td>good flavor come securely pack fresh delicious...</td>\n",
       "    </tr>\n",
       "    <tr>\n",
       "      <th>2</th>\n",
       "      <td>5</td>\n",
       "      <td>Strawberry Twizzlers - Yummy</td>\n",
       "      <td>The Strawberry Twizzlers are my guilty pleasur...</td>\n",
       "      <td>strawberry twizzlers yummy</td>\n",
       "      <td>strawberry twizzlers guilty pleasure yummy six...</td>\n",
       "    </tr>\n",
       "  </tbody>\n",
       "</table>\n",
       "</div>"
      ],
      "text/plain": [
       "   Score                       Summary  \\\n",
       "0      2                Cough Medicine   \n",
       "1      4             fresh and greasy!   \n",
       "2      5  Strawberry Twizzlers - Yummy   \n",
       "\n",
       "                                                Text  \\\n",
       "0  If you are looking for the secret ingredient i...   \n",
       "1  good flavor! these came securely packed... the...   \n",
       "2  The Strawberry Twizzlers are my guilty pleasur...   \n",
       "\n",
       "                 Summary_prep  \\\n",
       "0              cough medicine   \n",
       "1                fresh greasy   \n",
       "2  strawberry twizzlers yummy   \n",
       "\n",
       "                                           Text_prep  \n",
       "0  look secret ingredient robitussin believe find...  \n",
       "1  good flavor come securely pack fresh delicious...  \n",
       "2  strawberry twizzlers guilty pleasure yummy six...  "
      ]
     },
     "metadata": {},
     "execution_count": 15
    },
    {
     "output_type": "stream",
     "name": "stdout",
     "text": [
      "<class 'pandas.core.frame.DataFrame'>\n",
      "Int64Index: 57029 entries, 0 to 57502\n",
      "Data columns (total 5 columns):\n",
      " #   Column        Non-Null Count  Dtype \n",
      "---  ------        --------------  ----- \n",
      " 0   Score         57029 non-null  int64 \n",
      " 1   Summary       57029 non-null  object\n",
      " 2   Text          57029 non-null  object\n",
      " 3   Summary_prep  57029 non-null  object\n",
      " 4   Text_prep     57029 non-null  object\n",
      "dtypes: int64(1), object(4)\n",
      "memory usage: 2.6+ MB\n",
      "\n",
      " Shape of data (57029, 5)\n"
     ]
    }
   ],
   "metadata": {}
  },
  {
   "cell_type": "code",
   "execution_count": 16,
   "source": [
    "# Check the cleaned text\r\n",
    "import random\r\n",
    "loc = random.randint(0, len(df_new))\r\n",
    "print('Original text...')\r\n",
    "print(list(df_new.loc[loc, ['Text']]))\r\n",
    "print('Cleaned text...')\r\n",
    "print(list(df_new.loc[loc, ['Text_prep']]))"
   ],
   "outputs": [
    {
     "output_type": "stream",
     "name": "stdout",
     "text": [
      "Original text...\n",
      "['Cats loved these \"greenies\".  They know when I\\'m opening the package and come running.  Also the shipper didn\\'t waste any time getting this out to me!  Thanks!!']\n",
      "Cleaned text...\n",
      "['cat love greenies know open package come run also shipper didn waste time get thank']\n"
     ]
    }
   ],
   "metadata": {}
  },
  {
   "cell_type": "code",
   "execution_count": 17,
   "source": [
    "# Check number of words\r\n",
    "train_string = ' '.join(df_new['Text_prep'])\r\n",
    "splits = train_string.split() \r\n",
    "print('Number of words (punctuation included):', len(splits))\r\n",
    "print('Number of unique words(punct included):', len(set(splits)))\r\n",
    "\r\n",
    "# Check the most common words\r\n",
    "freq_splits = FreqDist(splits)\r\n",
    "print('_'*80)\r\n",
    "print('20 most common words \\n', freq_splits.most_common(20), '\\n')\r\n",
    "\r\n",
    "# Shortest words\r\n",
    "print('_'*80)\r\n",
    "print(\"Shortest words\")\r\n",
    "short = set(s for s in splits if len(s)<4)\r\n",
    "short = [(s, freq_splits[s]) for s in short]\r\n",
    "short.sort(key=lambda x:x[1], reverse=True)\r\n",
    "short[0:5]\r\n",
    "\r\n",
    "#Longest words \r\n",
    "print('_'*80)\r\n",
    "print(\"Longest words \\n\")\r\n",
    "long = set(s for s in splits if len(s)>15)\r\n",
    "long = [(s, freq_splits[s]) for s in long]\r\n",
    "long.sort(key=lambda x:x[1], reverse=True)\r\n",
    "long[0:10]\r\n",
    "\r\n",
    "# Find hltml tags\r\n",
    "find_pattern(r'/?>?w*<|/>', splits, freq_splits)\r\n",
    "\r\n",
    "# Find numbers\r\n",
    "find_pattern(r'\\d', splits, freq_splits)\r\n",
    "\r\n",
    "# Find Hyphenated words\r\n",
    "find_pattern(r'\\w+-+\\w+', splits, freq_splits)\r\n",
    "\r\n",
    "# Find 'href=' patterns\r\n",
    "find_pattern(r'href\\=', splits, freq_splits)"
   ],
   "outputs": [
    {
     "output_type": "stream",
     "name": "stdout",
     "text": [
      "Number of words (punctuation included): 2325128\n",
      "Number of unique words(punct included): 40169\n",
      "________________________________________________________________________________\n",
      "20 most common words \n",
      " [('like', 28666), ('taste', 26252), ('flavor', 21769), ('good', 20160), ('get', 18601), ('love', 18589), ('one', 17768), ('make', 17541), ('try', 17082), ('coffee', 16581), ('great', 16558), ('use', 16412), ('buy', 15644), ('tea', 15274), ('product', 14528), ('food', 14104), ('find', 13568), ('eat', 13028), ('would', 12630), ('dog', 10892)] \n",
      "\n",
      "________________________________________________________________________________\n",
      "Shortest words\n"
     ]
    },
    {
     "output_type": "execute_result",
     "data": {
      "text/plain": [
       "[('get', 18601),\n",
       " ('one', 17768),\n",
       " ('try', 17082),\n",
       " ('use', 16412),\n",
       " ('buy', 15644)]"
      ]
     },
     "metadata": {},
     "execution_count": 17
    },
    {
     "output_type": "stream",
     "name": "stdout",
     "text": [
      "________________________________________________________________________________\n",
      "Longest words \n",
      "\n"
     ]
    },
    {
     "output_type": "execute_result",
     "data": {
      "text/plain": [
       "[('gastrointestinal', 24),\n",
       " ('enthusiastically', 20),\n",
       " ('strawberrybanana', 15),\n",
       " ('vitaminsminerals', 8),\n",
       " ('indistinguishable', 8),\n",
       " ('misrepresentation', 7),\n",
       " ('sucralosesplenda', 5),\n",
       " ('itchingbitinglicking', 5),\n",
       " ('hexametaphosphate', 5),\n",
       " ('dogfoodanalysiscom', 5)]"
      ]
     },
     "metadata": {},
     "execution_count": 17
    },
    {
     "output_type": "stream",
     "name": "stdout",
     "text": [
      "0 words matched, which is 0.00% of total\n",
      "Sample of patterns searched [] \n",
      "\n",
      "0 words matched, which is 0.00% of total\n",
      "Sample of patterns searched [] \n",
      "\n",
      "0 words matched, which is 0.00% of total\n",
      "Sample of patterns searched [] \n",
      "\n",
      "0 words matched, which is 0.00% of total\n",
      "Sample of patterns searched [] \n",
      "\n"
     ]
    }
   ],
   "metadata": {}
  },
  {
   "cell_type": "code",
   "execution_count": 18,
   "source": [
    "# Check number of words (for feature Summary)\r\n",
    "train_string = ' '.join(df_new['Summary_prep'])\r\n",
    "splits = train_string.split() \r\n",
    "print('Number of words (punctuation included):', len(splits))\r\n",
    "print('Number of unique words(punct included):', len(set(splits)))\r\n",
    "\r\n",
    "# Check the most common words\r\n",
    "freq_splits = FreqDist(splits)\r\n",
    "print('_'*80)\r\n",
    "print('20 most common words \\n', freq_splits.most_common(20), '\\n')\r\n",
    "\r\n",
    "# Shortest words\r\n",
    "print('_'*80)\r\n",
    "print(\"Shortest words\")\r\n",
    "short = set(s for s in splits if len(s)<4)\r\n",
    "short = [(s, freq_splits[s]) for s in short]\r\n",
    "short.sort(key=lambda x:x[1], reverse=True)\r\n",
    "short[0:5]\r\n",
    "\r\n",
    "#Longest words \r\n",
    "print('_'*80)\r\n",
    "print(\"Longest words \\n\")\r\n",
    "long = set(s for s in splits if len(s)>15)\r\n",
    "long = [(s, freq_splits[s]) for s in long]\r\n",
    "long.sort(key=lambda x:x[1], reverse=True)\r\n",
    "long[0:10]\r\n",
    "\r\n",
    "# Find hltml tags\r\n",
    "find_pattern(r'/?>?w*<|/>', splits, freq_splits)\r\n",
    "\r\n",
    "# Find numbers\r\n",
    "find_pattern(r'\\d', splits, freq_splits)\r\n",
    "\r\n",
    "# Find Hyphenated words\r\n",
    "find_pattern(r'\\w+-+\\w+', splits, freq_splits)\r\n",
    "\r\n",
    "# Find 'href=' patterns\r\n",
    "find_pattern(r'href\\=', splits, freq_splits)"
   ],
   "outputs": [
    {
     "output_type": "stream",
     "name": "stdout",
     "text": [
      "Number of words (punctuation included): 165819\n",
      "Number of unique words(punct included): 10095\n",
      "________________________________________________________________________________\n",
      "20 most common words \n",
      " [('great', 7491), ('good', 5139), ('love', 3986), ('best', 3412), ('taste', 3069), ('coffee', 2627), ('tea', 2438), ('dog', 2219), ('product', 1945), ('delicious', 1901), ('flavor', 1681), ('like', 1527), ('food', 1482), ('cat', 1367), ('excellent', 1308), ('price', 1165), ('tasty', 1164), ('yummy', 1111), ('treat', 1090), ('snack', 1018)] \n",
      "\n",
      "________________________________________________________________________________\n",
      "Shortest words\n"
     ]
    },
    {
     "output_type": "execute_result",
     "data": {
      "text/plain": [
       "[('tea', 2438), ('dog', 2219), ('cat', 1367), ('cup', 828), ('buy', 609)]"
      ]
     },
     "metadata": {},
     "execution_count": 18
    },
    {
     "output_type": "stream",
     "name": "stdout",
     "text": [
      "________________________________________________________________________________\n",
      "Longest words \n",
      "\n"
     ]
    },
    {
     "output_type": "execute_result",
     "data": {
      "text/plain": [
       "[('tastingeffective', 3),\n",
       " ('misrepresentation', 2),\n",
       " ('chemicalspreservatives', 2),\n",
       " ('thebestcoffeeever', 2),\n",
       " ('strawberrybanana', 2),\n",
       " ('makingvanillacom', 1),\n",
       " ('bresaolabundnerfleish', 1),\n",
       " ('alphisnumberonefan', 1),\n",
       " ('sebclarityconnectcom', 1),\n",
       " ('lovelovelovelove', 1)]"
      ]
     },
     "metadata": {},
     "execution_count": 18
    },
    {
     "output_type": "stream",
     "name": "stdout",
     "text": [
      "0 words matched, which is 0.00% of total\n",
      "Sample of patterns searched [] \n",
      "\n",
      "0 words matched, which is 0.00% of total\n",
      "Sample of patterns searched [] \n",
      "\n",
      "0 words matched, which is 0.00% of total\n",
      "Sample of patterns searched [] \n",
      "\n",
      "0 words matched, which is 0.00% of total\n",
      "Sample of patterns searched [] \n",
      "\n"
     ]
    }
   ],
   "metadata": {}
  },
  {
   "cell_type": "markdown",
   "source": [
    "# **Split into train test set**\r\n",
    "\r\n",
    "Next, we will split the cleaned data into train (90%) and test set(10%). We will take 20% of the train data to be validation set. Here we shouldn't use random split as usual, since our score column contains mostly 5 stars ratings. We should instead split the train and test set accordingly to the column Score."
   ],
   "metadata": {}
  },
  {
   "cell_type": "code",
   "execution_count": 19,
   "source": [
    "y = df_new['Score'].astype('category')\r\n",
    "df_text = df_new.drop(['Score'], axis=1)\r\n",
    "x_train, x_test, y_train, y_test = train_test_split(df_text, y, stratify=y, \r\n",
    "                                                    test_size=0.1, random_state=0)\r\n",
    "# Reset index for train data\r\n",
    "x_train.reset_index(inplace=True, drop=True)\r\n",
    "y_train = y_train.reset_index(drop=True)\r\n",
    "\r\n",
    "# Create validation set\r\n",
    "x_train, x_val, y_train, y_val = train_test_split(x_train, y_train, stratify=y_train, \r\n",
    "                                                test_size=0.2, random_state=0)\r\n",
    "\r\n",
    "# Reset index for train data\r\n",
    "x_train.reset_index(inplace=True, drop=True)\r\n",
    "y_train = y_train.reset_index(drop=True)\r\n",
    "\r\n",
    "# Reset index for val data\r\n",
    "x_val.reset_index(inplace=True, drop=True)\r\n",
    "y_val = y_val.reset_index(drop=True)\r\n",
    "\r\n",
    "# Reset index for test data\r\n",
    "x_test.reset_index(inplace=True, drop=True)\r\n",
    "y_test = y_test.reset_index(drop=True)\r\n",
    "\r\n",
    "\r\n",
    "# Check distribution of Score in y_train / y_test\r\n",
    "plt.figure(figsize=(5, 5))\r\n",
    "sns.countplot(y_train, color='blue', alpha=0.5, label='train data')\r\n",
    "sns.countplot(y_test, color='red', alpha=0.5, label='test data')\r\n",
    "plt.legend()\r\n",
    "plt.title('Number of observations in each Score category')\r\n",
    "plt.show();"
   ],
   "outputs": [
    {
     "output_type": "display_data",
     "data": {
      "application/vnd.jupyter.widget-view+json": {
       "version_major": 2,
       "version_minor": 0,
       "model_id": "f9a673e93f8648d2b5d4752faa103a4d"
      },
      "text/plain": [
       "Canvas(toolbar=Toolbar(toolitems=[('Home', 'Reset original view', 'home', 'home'), ('Back', 'Back to previous …"
      ]
     },
     "metadata": {}
    },
    {
     "output_type": "stream",
     "name": "stderr",
     "text": [
      "C:\\Users\\ttran\\Anaconda3\\lib\\site-packages\\seaborn\\_decorators.py:36: FutureWarning: Pass the following variable as a keyword arg: x. From version 0.12, the only valid positional argument will be `data`, and passing other arguments without an explicit keyword will result in an error or misinterpretation.\n",
      "  warnings.warn(\n"
     ]
    }
   ],
   "metadata": {}
  },
  {
   "cell_type": "code",
   "execution_count": 20,
   "source": [
    "# Export train, val and test set\r\n",
    "df_train.to_csv(repo+'/train.csv', encoding='utf-8', index=False)\r\n",
    "y_train.to_csv(repo+'/train_labels.csv', encoding='utf-8', index=False)\r\n",
    "\r\n",
    "df_val.to_csv(repo+'/valid.csv', encoding='utf-8', index=False)\r\n",
    "y_val.to_csv(repo+'/valid_labels.csv', encoding='utf-8', index=False)\r\n",
    "\r\n",
    "df_test.to_csv(repo+'/test.csv', encoding='utf-8', index=False)\r\n",
    "y_test.to_csv(repo+'/test_labels.csv', encoding='utf-8', index=False)"
   ],
   "outputs": [
    {
     "output_type": "error",
     "ename": "NameError",
     "evalue": "name 'df_train' is not defined",
     "traceback": [
      "\u001b[1;31m---------------------------------------------------------------------------\u001b[0m",
      "\u001b[1;31mNameError\u001b[0m                                 Traceback (most recent call last)",
      "\u001b[1;32m~\\AppData\\Local\\Temp/ipykernel_34552/3361352586.py\u001b[0m in \u001b[0;36m<module>\u001b[1;34m\u001b[0m\n\u001b[0;32m      1\u001b[0m \u001b[1;31m# Export train, val and test set\u001b[0m\u001b[1;33m\u001b[0m\u001b[1;33m\u001b[0m\u001b[1;33m\u001b[0m\u001b[0m\n\u001b[1;32m----> 2\u001b[1;33m \u001b[0mdf_train\u001b[0m\u001b[1;33m.\u001b[0m\u001b[0mto_csv\u001b[0m\u001b[1;33m(\u001b[0m\u001b[0mrepo\u001b[0m\u001b[1;33m+\u001b[0m\u001b[1;34m'/train.csv'\u001b[0m\u001b[1;33m,\u001b[0m \u001b[0mencoding\u001b[0m\u001b[1;33m=\u001b[0m\u001b[1;34m'utf-8'\u001b[0m\u001b[1;33m,\u001b[0m \u001b[0mindex\u001b[0m\u001b[1;33m=\u001b[0m\u001b[1;32mFalse\u001b[0m\u001b[1;33m)\u001b[0m\u001b[1;33m\u001b[0m\u001b[1;33m\u001b[0m\u001b[0m\n\u001b[0m\u001b[0;32m      3\u001b[0m \u001b[0my_train\u001b[0m\u001b[1;33m.\u001b[0m\u001b[0mto_csv\u001b[0m\u001b[1;33m(\u001b[0m\u001b[0mrepo\u001b[0m\u001b[1;33m+\u001b[0m\u001b[1;34m'/train_labels.csv'\u001b[0m\u001b[1;33m,\u001b[0m \u001b[0mencoding\u001b[0m\u001b[1;33m=\u001b[0m\u001b[1;34m'utf-8'\u001b[0m\u001b[1;33m,\u001b[0m \u001b[0mindex\u001b[0m\u001b[1;33m=\u001b[0m\u001b[1;32mFalse\u001b[0m\u001b[1;33m)\u001b[0m\u001b[1;33m\u001b[0m\u001b[1;33m\u001b[0m\u001b[0m\n\u001b[0;32m      4\u001b[0m \u001b[1;33m\u001b[0m\u001b[0m\n\u001b[0;32m      5\u001b[0m \u001b[0mdf_val\u001b[0m\u001b[1;33m.\u001b[0m\u001b[0mto_csv\u001b[0m\u001b[1;33m(\u001b[0m\u001b[0mrepo\u001b[0m\u001b[1;33m+\u001b[0m\u001b[1;34m'/valid.csv'\u001b[0m\u001b[1;33m,\u001b[0m \u001b[0mencoding\u001b[0m\u001b[1;33m=\u001b[0m\u001b[1;34m'utf-8'\u001b[0m\u001b[1;33m,\u001b[0m \u001b[0mindex\u001b[0m\u001b[1;33m=\u001b[0m\u001b[1;32mFalse\u001b[0m\u001b[1;33m)\u001b[0m\u001b[1;33m\u001b[0m\u001b[1;33m\u001b[0m\u001b[0m\n",
      "\u001b[1;31mNameError\u001b[0m: name 'df_train' is not defined"
     ]
    }
   ],
   "metadata": {}
  },
  {
   "cell_type": "code",
   "execution_count": null,
   "source": [],
   "outputs": [],
   "metadata": {}
  }
 ],
 "metadata": {
  "kernelspec": {
   "name": "python3",
   "display_name": "Python 3.8.11 64-bit ('base': conda)"
  },
  "language_info": {
   "codemirror_mode": {
    "name": "ipython",
    "version": 3
   },
   "file_extension": ".py",
   "mimetype": "text/x-python",
   "name": "python",
   "nbconvert_exporter": "python",
   "pygments_lexer": "ipython3",
   "version": "3.8.11"
  },
  "interpreter": {
   "hash": "e88734949cfad01e9c9daf169f31362e2053d91cee716e8faab2b799a4f82d3c"
  }
 },
 "nbformat": 4,
 "nbformat_minor": 5
}